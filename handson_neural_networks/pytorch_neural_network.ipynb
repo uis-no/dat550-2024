{
 "cells": [
  {
   "cell_type": "code",
   "execution_count": 1,
   "metadata": {},
   "outputs": [
    {
     "name": "stdout",
     "output_type": "stream",
     "text": [
      "Defaulting to user installation because normal site-packages is not writeable\n",
      "Requirement already satisfied: torch in /Users/vsetty/Library/Python/3.9/lib/python/site-packages (2.2.1)\n",
      "Requirement already satisfied: numpy in /Users/vsetty/Library/Python/3.9/lib/python/site-packages (1.26.4)\n",
      "Requirement already satisfied: scikit-learn in /Users/vsetty/Library/Python/3.9/lib/python/site-packages (1.4.1.post1)\n",
      "Requirement already satisfied: sympy in /Users/vsetty/Library/Python/3.9/lib/python/site-packages (from torch) (1.12)\n",
      "Requirement already satisfied: networkx in /Users/vsetty/Library/Python/3.9/lib/python/site-packages (from torch) (3.2.1)\n",
      "Requirement already satisfied: typing-extensions>=4.8.0 in /Users/vsetty/Library/Python/3.9/lib/python/site-packages (from torch) (4.10.0)\n",
      "Requirement already satisfied: filelock in /Users/vsetty/Library/Python/3.9/lib/python/site-packages (from torch) (3.13.1)\n",
      "Requirement already satisfied: jinja2 in /Users/vsetty/Library/Python/3.9/lib/python/site-packages (from torch) (3.1.3)\n",
      "Requirement already satisfied: fsspec in /Users/vsetty/Library/Python/3.9/lib/python/site-packages (from torch) (2024.2.0)\n",
      "Requirement already satisfied: scipy>=1.6.0 in /Users/vsetty/Library/Python/3.9/lib/python/site-packages (from scikit-learn) (1.12.0)\n",
      "Requirement already satisfied: threadpoolctl>=2.0.0 in /Users/vsetty/Library/Python/3.9/lib/python/site-packages (from scikit-learn) (3.3.0)\n",
      "Requirement already satisfied: joblib>=1.2.0 in /Users/vsetty/Library/Python/3.9/lib/python/site-packages (from scikit-learn) (1.3.2)\n",
      "Requirement already satisfied: MarkupSafe>=2.0 in /Users/vsetty/Library/Python/3.9/lib/python/site-packages (from jinja2->torch) (2.1.5)\n",
      "Requirement already satisfied: mpmath>=0.19 in /Users/vsetty/Library/Python/3.9/lib/python/site-packages (from sympy->torch) (1.3.0)\n",
      "\u001b[33mWARNING: You are using pip version 21.2.4; however, version 24.0 is available.\n",
      "You should consider upgrading via the '/Library/Developer/CommandLineTools/usr/bin/python3 -m pip install --upgrade pip' command.\u001b[0m\n",
      "Note: you may need to restart the kernel to use updated packages.\n"
     ]
    }
   ],
   "source": [
    "pip install torch numpy scikit-learn"
   ]
  },
  {
   "cell_type": "code",
   "execution_count": 2,
   "metadata": {},
   "outputs": [],
   "source": [
    "import random\n",
    "import numpy as np\n",
    "import torch\n",
    "import torch.nn as nn\n",
    "import torch.nn.functional as F\n",
    "seed = 42\n",
    "torch.manual_seed(seed)\n",
    "np.random.seed(seed)\n",
    "random.seed(seed)"
   ]
  },
  {
   "cell_type": "code",
   "execution_count": 3,
   "metadata": {},
   "outputs": [],
   "source": [
    "\n",
    "# Define the neural network\n",
    "class SimpleNeuralNet(nn.Module):\n",
    "    def __init__(self):\n",
    "        super(SimpleNeuralNet, self).__init__()\n",
    "        # Input layer to hidden layer\n",
    "        self.hidden = nn.Linear(2, 5)  # Assuming input features are of size 2, and hidden layer has 5 nodes\n",
    "        # Hidden layer to output layer\n",
    "        self.output = nn.Linear(5, 1)  # Output layer for binary classification (1 node)\n",
    "\n",
    "    def forward(self, x):\n",
    "        # Forward pass: compute the output of the network\n",
    "        a1 = F.sigmoid(self.hidden(x))\n",
    "        x = torch.sigmoid(self.output(a1))  # Activation function for output layer for binary classification\n",
    "        return x"
   ]
  },
  {
   "cell_type": "code",
   "execution_count": 4,
   "metadata": {},
   "outputs": [
    {
     "name": "stdout",
     "output_type": "stream",
     "text": [
      "SimpleNeuralNet(\n",
      "  (hidden): Linear(in_features=2, out_features=5, bias=True)\n",
      "  (output): Linear(in_features=5, out_features=1, bias=True)\n",
      ")\n",
      "tensor([[-1.4285, -0.2810]])\n",
      "Output of the network: tensor([[0.4793]], grad_fn=<SigmoidBackward0>)\n"
     ]
    }
   ],
   "source": [
    "# Create an instance of the network\n",
    "my_net = SimpleNeuralNet()\n",
    "print(my_net)\n",
    "\n",
    "# Dummy input for testing the network\n",
    "dummy_input = torch.randn(1, 2)  # Batch size of 1, input features of size 2\n",
    "print(dummy_input)\n",
    "output = my_net(dummy_input)\n",
    "print(\"Output of the network:\", output)"
   ]
  },
  {
   "cell_type": "code",
   "execution_count": 5,
   "metadata": {},
   "outputs": [
    {
     "name": "stdout",
     "output_type": "stream",
     "text": [
      "Epoch 0, Loss: 0.6937472820281982\n",
      "Epoch 10, Loss: 0.6929967403411865\n",
      "Epoch 20, Loss: 0.6922515034675598\n",
      "Epoch 30, Loss: 0.6915111541748047\n",
      "Epoch 40, Loss: 0.6907752752304077\n",
      "Epoch 50, Loss: 0.690043568611145\n",
      "Epoch 60, Loss: 0.689315676689148\n",
      "Epoch 70, Loss: 0.6885913610458374\n",
      "Epoch 80, Loss: 0.6878702640533447\n",
      "Epoch 90, Loss: 0.6871521472930908\n",
      "Final Loss: 0.6865082383155823\n"
     ]
    }
   ],
   "source": [
    "# Synthetic non-linear dataset\n",
    "from sklearn.datasets import make_moons\n",
    "X, y = make_moons(n_samples=600, noise=0.5, random_state=42)  # Create non-linear data\n",
    "inputs = torch.tensor(X, dtype=torch.float)  # Convert to tensors\n",
    "labels = torch.tensor(y, dtype=torch.float).view(-1, 1)\n",
    "\n",
    "# Splitting dataset into train and test\n",
    "train_inputs, test_inputs = inputs[:540], inputs[540:]\n",
    "train_labels, test_labels = labels[:540], labels[540:]\n",
    "\n",
    "criterion = nn.BCELoss()  # Binary Cross-Entropy Loss for binary classification\n",
    "optimizer = torch.optim.SGD(my_net.parameters(), lr=0.01)  # Stochastic Gradient Descent\n",
    "\n",
    "# Training loop (for demonstration, let's say 100 epochs)\n",
    "num_epochs = 100\n",
    "for epoch in range(num_epochs):\n",
    "    # Forward pass: Compute predicted y by passing x to the model\n",
    "    predicted_labels = my_net(inputs)\n",
    "\n",
    "    # Compute and print loss\n",
    "    loss = criterion(predicted_labels, labels)\n",
    "    if epoch % 10 == 0:  # Print every 10 epochs\n",
    "        print(f'Epoch {epoch}, Loss: {loss.item()}')\n",
    "\n",
    "    # Zero gradients, perform a backward pass, and update the weights.\n",
    "    optimizer.zero_grad()\n",
    "    loss.backward()\n",
    "    optimizer.step()\n",
    "\n",
    "# Print final loss\n",
    "print(f'Final Loss: {loss.item()}')"
   ]
  },
  {
   "cell_type": "markdown",
   "metadata": {},
   "source": [
    "# Task 1: \n",
    "a. Implement the predict function by running the prediction through neural network and return the predicted labels.\n",
    "b. Compute the accuracy for the test set."
   ]
  },
  {
   "cell_type": "code",
   "execution_count": 6,
   "metadata": {},
   "outputs": [],
   "source": [
    "def predict(x):\n",
    "    # Apply the network to the input and get the prediction score\n",
    "    # Note: The output of the network is a score, not a class label \n",
    "    # Return 1 if the score is greater than 0.5, else 0"
   ]
  },
  {
   "cell_type": "code",
   "execution_count": 7,
   "metadata": {},
   "outputs": [],
   "source": [
    "def accuracy(y_pred, y_true):\n",
    "    # Compare the predicted labels to true labels\n",
    "    # and compute the accuracy."
   ]
  },
  {
   "cell_type": "code",
   "execution_count": 8,
   "metadata": {},
   "outputs": [],
   "source": [
    "test_pred = predict(test_inputs)\n",
    "test_accuracy = accuracy(test_pred, test_labels)"
   ]
  },
  {
   "cell_type": "code",
   "execution_count": 9,
   "metadata": {},
   "outputs": [
    {
     "data": {
      "text/plain": [
       "tensor(0.5167)"
      ]
     },
     "execution_count": 9,
     "metadata": {},
     "output_type": "execute_result"
    }
   ],
   "source": [
    "test_accuracy"
   ]
  },
  {
   "cell_type": "markdown",
   "metadata": {},
   "source": [
    "# Task 2\n",
    "a. Change the network to use ReLU activation function, and train again\n",
    "b. Change the optimization algorithm to Adam and train again\n",
    "c. Add an additional hidden layer and train again \n",
    "\n",
    "Note: You can either make changes in same code and run it again or a much neater way is to take activation function, number of hidden layers and optimizer as arguments and run them."
   ]
  },
  {
   "cell_type": "code",
   "execution_count": null,
   "metadata": {},
   "outputs": [],
   "source": [
    "\n"
   ]
  }
 ],
 "metadata": {
  "kernelspec": {
   "display_name": "Python 3",
   "language": "python",
   "name": "python3"
  },
  "language_info": {
   "codemirror_mode": {
    "name": "ipython",
    "version": 3
   },
   "file_extension": ".py",
   "mimetype": "text/x-python",
   "name": "python",
   "nbconvert_exporter": "python",
   "pygments_lexer": "ipython3",
   "version": "3.9.6"
  }
 },
 "nbformat": 4,
 "nbformat_minor": 2
}
