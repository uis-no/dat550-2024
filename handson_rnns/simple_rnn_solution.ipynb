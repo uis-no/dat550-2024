{
 "cells": [
  {
   "cell_type": "markdown",
   "metadata": {},
   "source": [
    "# Task 1: Add the sigmoid layer in the forward pass before returning the output."
   ]
  },
  {
   "cell_type": "code",
   "execution_count": 43,
   "metadata": {},
   "outputs": [
    {
     "name": "stdout",
     "output_type": "stream",
     "text": [
      "SimpleRNN(\n",
      "  (rnn): RNN(10, 10, batch_first=True)\n",
      "  (fc): Linear(in_features=10, out_features=1, bias=True)\n",
      ")\n"
     ]
    }
   ],
   "source": [
    "import torch\n",
    "import torch.nn as nn\n",
    "import numpy as np\n",
    "import random\n",
    "seed = 42\n",
    "torch.manual_seed(seed)\n",
    "np.random.seed(seed)\n",
    "random.seed(seed)\n",
    "\n",
    "class SimpleRNN(nn.Module):\n",
    "    def __init__(self, input_size, hidden_size, num_layers, rnn_type='rnn'):\n",
    "        super(SimpleRNN, self).__init__()\n",
    "        self.hidden_size = hidden_size\n",
    "        self.num_layers = num_layers\n",
    "        self.rnn_type = rnn_type\n",
    "        if rnn_type == 'gru':\n",
    "            self.rnn = nn.GRU(input_size, hidden_size, num_layers, batch_first=True)\n",
    "        elif rnn_type == 'lstm':\n",
    "            self.rnn = nn.LSTM(input_size, hidden_size, num_layers, batch_first=True)\n",
    "        elif rnn_type == \"rnn\":\n",
    "            self.rnn = nn.RNN(input_size, hidden_size, num_layers, batch_first=True)\n",
    "        else:\n",
    "            raise ValueError(\"Invalid RNN type\")\n",
    "        # Output layer for binary classification (1 node)\n",
    "        self.fc = nn.Linear(hidden_size, 1)\n",
    "\n",
    "    def forward(self, x):\n",
    "        # Initialize hidden state with zeros\n",
    "        h0 = torch.zeros(self.num_layers, x.size(0), self.hidden_size).to(x.device)\n",
    "        if self.rnn_type == \"lstm\":\n",
    "            c0 = torch.zeros(self.num_layers, x.size(0), self.hidden_size).to(x.device)\n",
    "            out, _ = self.rnn(x, (h0, c0))\n",
    "        else:\n",
    "            out, _ = self.rnn(x, h0)\n",
    "\n",
    "        # Extract the last hidden state output\n",
    "        out = out[:, -1, :]\n",
    "\n",
    "        # Pass the last hidden state output to fully connected layer\n",
    "        out = self.fc(out)\n",
    "        # Apply sigmoid function to convert to a probability\n",
    "        out = torch.sigmoid(out)\n",
    "        return out\n",
    "\n",
    "# Example usage:\n",
    "input_size = 10   # Number of input features\n",
    "hidden_size = 10  # Number of features in the hidden state\n",
    "num_layers = 1    # Number of stacked RNN layers\n",
    "\n",
    "# Create the RNN model instance\n",
    "model = SimpleRNN(input_size, hidden_size, num_layers, rnn_type='rnn')\n",
    "\n",
    "\n",
    "print(model)"
   ]
  },
  {
   "cell_type": "markdown",
   "metadata": {},
   "source": [
    "# Task 2: Train the SimpleRNN using the Adam optimizer \n",
    "- Hint:  you can copy the code from pytorch_neural_network_solution.ipynb"
   ]
  },
  {
   "cell_type": "code",
   "execution_count": 44,
   "metadata": {},
   "outputs": [
    {
     "data": {
      "text/plain": [
       "torch.Size([1000, 100, 10])"
      ]
     },
     "execution_count": 44,
     "metadata": {},
     "output_type": "execute_result"
    }
   ],
   "source": [
    "import numpy as np\n",
    "num_features = 10\n",
    "num_instances = 1000\n",
    "sequence_length = 100\n",
    "x = torch.rand(num_instances, sequence_length, num_features)\n",
    "x.shape\n"
   ]
  },
  {
   "cell_type": "code",
   "execution_count": 45,
   "metadata": {},
   "outputs": [
    {
     "data": {
      "text/plain": [
       "torch.Size([1000, 1])"
      ]
     },
     "execution_count": 45,
     "metadata": {},
     "output_type": "execute_result"
    }
   ],
   "source": [
    "y = torch.tensor(np.random.randint(low=0, high=1, size = num_instances).reshape(-1, 1))\n",
    "y.shape"
   ]
  },
  {
   "cell_type": "code",
   "execution_count": 57,
   "metadata": {},
   "outputs": [],
   "source": [
    "import wandb\n",
    "def train(train_model, optimizer_name=\"adam\", model_type = \"RNN\"):\n",
    "    criterion = nn.BCELoss()\n",
    "    lr = 0.01\n",
    "    if optimizer_name == \"adam\":\n",
    "        optimizer = torch.optim.Adam(train_model.parameters(), lr=lr)\n",
    "    elif optimizer_name == \"rmsprop\":\n",
    "        optimizer = torch.optim.RMSprop(train_model.parameters(), lr=lr)\n",
    "    elif optimizer_name == \"sgd\":\n",
    "        optimizer = torch.optim.SGD(train_model.parameters(), lr=lr)\n",
    "    else:\n",
    "        raise ValueError(\"Invalid optimizer.\")\n",
    "    wandb.init(project='dat550_rnn', reinit=True, name=f'run_{model_type}_{optimizer_name}')\n",
    "    # Training loop (for demonstration, let's say 100 epochs)\n",
    "    num_epochs = 100\n",
    "    for epoch in range(num_epochs):\n",
    "        pred = train_model(x)\n",
    "        loss = criterion(pred, y.float())\n",
    "        optimizer.zero_grad()\n",
    "        loss.backward()\n",
    "        optimizer.step()\n",
    "        print(epoch, loss.item())\n",
    "        wandb.log({\"epoch\": epoch, \"loss\": loss})\n",
    "\n",
    "\n",
    "    print(f'Final Loss: {loss.item()}')\n",
    "    wandb.finish()\n",
    "    return model"
   ]
  },
  {
   "cell_type": "markdown",
   "metadata": {},
   "source": [
    "# Task 3: Change the SimpleRNN to use the GRU units instead of RNN units and trin."
   ]
  },
  {
   "cell_type": "code",
   "execution_count": 59,
   "metadata": {},
   "outputs": [
    {
     "data": {
      "text/html": [
       "Tracking run with wandb version 0.16.4"
      ],
      "text/plain": [
       "<IPython.core.display.HTML object>"
      ]
     },
     "metadata": {},
     "output_type": "display_data"
    },
    {
     "data": {
      "text/html": [
       "Run data is saved locally in <code>/Users/vsetty/repos/dat550/2024/handson_rnns/wandb/run-20240314_155748-qt3wb1f0</code>"
      ],
      "text/plain": [
       "<IPython.core.display.HTML object>"
      ]
     },
     "metadata": {},
     "output_type": "display_data"
    },
    {
     "data": {
      "text/html": [
       "Syncing run <strong><a href='https://wandb.ai/factiverse-ai/dat550_rnn/runs/qt3wb1f0' target=\"_blank\">run_rnn_adam</a></strong> to <a href='https://wandb.ai/factiverse-ai/dat550_rnn' target=\"_blank\">Weights & Biases</a> (<a href='https://wandb.me/run' target=\"_blank\">docs</a>)<br/>"
      ],
      "text/plain": [
       "<IPython.core.display.HTML object>"
      ]
     },
     "metadata": {},
     "output_type": "display_data"
    },
    {
     "data": {
      "text/html": [
       " View project at <a href='https://wandb.ai/factiverse-ai/dat550_rnn' target=\"_blank\">https://wandb.ai/factiverse-ai/dat550_rnn</a>"
      ],
      "text/plain": [
       "<IPython.core.display.HTML object>"
      ]
     },
     "metadata": {},
     "output_type": "display_data"
    },
    {
     "data": {
      "text/html": [
       " View run at <a href='https://wandb.ai/factiverse-ai/dat550_rnn/runs/qt3wb1f0' target=\"_blank\">https://wandb.ai/factiverse-ai/dat550_rnn/runs/qt3wb1f0</a>"
      ],
      "text/plain": [
       "<IPython.core.display.HTML object>"
      ]
     },
     "metadata": {},
     "output_type": "display_data"
    },
    {
     "name": "stdout",
     "output_type": "stream",
     "text": [
      "0 0.5159330368041992\n",
      "1 0.4592374861240387\n",
      "2 0.4143798053264618\n",
      "3 0.37853148579597473\n",
      "4 0.34742528200149536\n",
      "5 0.31895264983177185\n",
      "6 0.29213947057724\n",
      "7 0.2666225731372833\n",
      "8 0.24241903424263\n",
      "9 0.21971337497234344\n",
      "10 0.19869738817214966\n",
      "11 0.17948637902736664\n",
      "12 0.16209867596626282\n",
      "13 0.14647482335567474\n",
      "14 0.1325090378522873\n",
      "15 0.12007423490285873\n",
      "16 0.10903366655111313\n",
      "17 0.0992443859577179\n",
      "18 0.09056036174297333\n",
      "19 0.0828392505645752\n",
      "20 0.07595061510801315\n",
      "21 0.06978095322847366\n",
      "22 0.0642346516251564\n",
      "23 0.05923245847225189\n",
      "24 0.05470894277095795\n",
      "25 0.05060996487736702\n",
      "26 0.04689041152596474\n",
      "27 0.04351217299699783\n",
      "28 0.040442511439323425\n",
      "29 0.0376526340842247\n",
      "30 0.03511669114232063\n",
      "31 0.032810986042022705\n",
      "32 0.030713604763150215\n",
      "33 0.0288042351603508\n",
      "34 0.027064133435487747\n",
      "35 0.025476135313510895\n",
      "36 0.0240247193723917\n",
      "37 0.02269596979022026\n",
      "38 0.021477488800883293\n",
      "39 0.02035832591354847\n",
      "40 0.019328786060214043\n",
      "41 0.01838032901287079\n",
      "42 0.017505383118987083\n",
      "43 0.016697237268090248\n",
      "44 0.015949886292219162\n",
      "45 0.015257957391440868\n",
      "46 0.014616602100431919\n",
      "47 0.014021437615156174\n",
      "48 0.013468480668962002\n",
      "49 0.012954112142324448\n",
      "50 0.0124750267714262\n",
      "51 0.012028222903609276\n",
      "52 0.011610961519181728\n",
      "53 0.011220747604966164\n",
      "54 0.010855312459170818\n",
      "55 0.010512590408325195\n",
      "56 0.010190709494054317\n",
      "57 0.009887965396046638\n",
      "58 0.009602810256183147\n",
      "59 0.009333840571343899\n",
      "60 0.009079786017537117\n",
      "61 0.008839479647576809\n",
      "62 0.008611871860921383\n",
      "63 0.008396006189286709\n",
      "64 0.008191011846065521\n",
      "65 0.007996092550456524\n",
      "66 0.007810521405190229\n",
      "67 0.007633641827851534\n",
      "68 0.007464845199137926\n",
      "69 0.007303582038730383\n",
      "70 0.007149345241487026\n",
      "71 0.007001673337072134\n",
      "72 0.00686013326048851\n",
      "73 0.006724342238157988\n",
      "74 0.00659393472597003\n",
      "75 0.006468581035733223\n",
      "76 0.006347977090626955\n",
      "77 0.0062318406999111176\n",
      "78 0.00611990736797452\n",
      "79 0.00601194379851222\n",
      "80 0.005907723680138588\n",
      "81 0.005807040259242058\n",
      "82 0.005709704477339983\n",
      "83 0.005615533795207739\n",
      "84 0.005524367559701204\n",
      "85 0.005436052102595568\n",
      "86 0.00535044027492404\n",
      "87 0.005267402622848749\n",
      "88 0.005186814349144697\n",
      "89 0.005108558107167482\n",
      "90 0.005032522138208151\n",
      "91 0.004958611913025379\n",
      "92 0.004886725917458534\n",
      "93 0.004816778004169464\n",
      "94 0.004748685751110315\n",
      "95 0.004682364873588085\n",
      "96 0.004617744125425816\n",
      "97 0.004554756451398134\n",
      "98 0.00449333107098937\n",
      "99 0.004433412104845047\n",
      "Final Loss: 0.004433412104845047\n"
     ]
    },
    {
     "data": {
      "text/html": [
       "<style>\n",
       "    table.wandb td:nth-child(1) { padding: 0 10px; text-align: left ; width: auto;} td:nth-child(2) {text-align: left ; width: 100%}\n",
       "    .wandb-row { display: flex; flex-direction: row; flex-wrap: wrap; justify-content: flex-start; width: 100% }\n",
       "    .wandb-col { display: flex; flex-direction: column; flex-basis: 100%; flex: 1; padding: 10px; }\n",
       "    </style>\n",
       "<div class=\"wandb-row\"><div class=\"wandb-col\"><h3>Run history:</h3><br/><table class=\"wandb\"><tr><td>epoch</td><td>▁▁▁▁▂▂▂▂▂▃▃▃▃▃▃▄▄▄▄▄▅▅▅▅▅▅▆▆▆▆▆▇▇▇▇▇▇███</td></tr><tr><td>loss</td><td>█▇▅▅▄▃▃▂▂▂▂▂▁▁▁▁▁▁▁▁▁▁▁▁▁▁▁▁▁▁▁▁▁▁▁▁▁▁▁▁</td></tr></table><br/></div><div class=\"wandb-col\"><h3>Run summary:</h3><br/><table class=\"wandb\"><tr><td>epoch</td><td>99</td></tr><tr><td>loss</td><td>0.00443</td></tr></table><br/></div></div>"
      ],
      "text/plain": [
       "<IPython.core.display.HTML object>"
      ]
     },
     "metadata": {},
     "output_type": "display_data"
    },
    {
     "data": {
      "text/html": [
       " View run <strong style=\"color:#cdcd00\">run_rnn_adam</strong> at: <a href='https://wandb.ai/factiverse-ai/dat550_rnn/runs/qt3wb1f0' target=\"_blank\">https://wandb.ai/factiverse-ai/dat550_rnn/runs/qt3wb1f0</a><br/>Synced 5 W&B file(s), 0 media file(s), 0 artifact file(s) and 0 other file(s)"
      ],
      "text/plain": [
       "<IPython.core.display.HTML object>"
      ]
     },
     "metadata": {},
     "output_type": "display_data"
    },
    {
     "data": {
      "text/html": [
       "Find logs at: <code>./wandb/run-20240314_155748-qt3wb1f0/logs</code>"
      ],
      "text/plain": [
       "<IPython.core.display.HTML object>"
      ]
     },
     "metadata": {},
     "output_type": "display_data"
    },
    {
     "data": {
      "text/html": [
       "Tracking run with wandb version 0.16.4"
      ],
      "text/plain": [
       "<IPython.core.display.HTML object>"
      ]
     },
     "metadata": {},
     "output_type": "display_data"
    },
    {
     "data": {
      "text/html": [
       "Run data is saved locally in <code>/Users/vsetty/repos/dat550/2024/handson_rnns/wandb/run-20240314_155754-8em3ty0x</code>"
      ],
      "text/plain": [
       "<IPython.core.display.HTML object>"
      ]
     },
     "metadata": {},
     "output_type": "display_data"
    },
    {
     "data": {
      "text/html": [
       "Syncing run <strong><a href='https://wandb.ai/factiverse-ai/dat550_rnn/runs/8em3ty0x' target=\"_blank\">run_gru_adam</a></strong> to <a href='https://wandb.ai/factiverse-ai/dat550_rnn' target=\"_blank\">Weights & Biases</a> (<a href='https://wandb.me/run' target=\"_blank\">docs</a>)<br/>"
      ],
      "text/plain": [
       "<IPython.core.display.HTML object>"
      ]
     },
     "metadata": {},
     "output_type": "display_data"
    },
    {
     "data": {
      "text/html": [
       " View project at <a href='https://wandb.ai/factiverse-ai/dat550_rnn' target=\"_blank\">https://wandb.ai/factiverse-ai/dat550_rnn</a>"
      ],
      "text/plain": [
       "<IPython.core.display.HTML object>"
      ]
     },
     "metadata": {},
     "output_type": "display_data"
    },
    {
     "data": {
      "text/html": [
       " View run at <a href='https://wandb.ai/factiverse-ai/dat550_rnn/runs/8em3ty0x' target=\"_blank\">https://wandb.ai/factiverse-ai/dat550_rnn/runs/8em3ty0x</a>"
      ],
      "text/plain": [
       "<IPython.core.display.HTML object>"
      ]
     },
     "metadata": {},
     "output_type": "display_data"
    },
    {
     "name": "stdout",
     "output_type": "stream",
     "text": [
      "0 0.7958732843399048\n",
      "1 0.732130229473114\n",
      "2 0.6741362810134888\n",
      "3 0.6202055215835571\n",
      "4 0.5685790777206421\n",
      "5 0.5180537700653076\n",
      "6 0.46821895241737366\n",
      "7 0.4193700850009918\n",
      "8 0.372270792722702\n",
      "9 0.3278682827949524\n",
      "10 0.2870347201824188\n",
      "11 0.2503839135169983\n",
      "12 0.21818475425243378\n",
      "13 0.19037209451198578\n",
      "14 0.16663019359111786\n",
      "15 0.14650258421897888\n",
      "16 0.12948653101921082\n",
      "17 0.11509449034929276\n",
      "18 0.10288606584072113\n",
      "19 0.09248106926679611\n",
      "20 0.08356184512376785\n",
      "21 0.07586889714002609\n",
      "22 0.06919321417808533\n",
      "23 0.06336737424135208\n",
      "24 0.058257028460502625\n",
      "25 0.053753722459077835\n",
      "26 0.04976905509829521\n",
      "27 0.0462302640080452\n",
      "28 0.04307682067155838\n",
      "29 0.040257979184389114\n",
      "30 0.03773084282875061\n",
      "31 0.03545888885855675\n",
      "32 0.03341086581349373\n",
      "33 0.03155994415283203\n",
      "34 0.02988293021917343\n",
      "35 0.02835976332426071\n",
      "36 0.026972996070981026\n",
      "37 0.02570742927491665\n",
      "38 0.024549802765250206\n",
      "39 0.023488493636250496\n",
      "40 0.02251330204308033\n",
      "41 0.02161525934934616\n",
      "42 0.020786475390195847\n",
      "43 0.020019972696900368\n",
      "44 0.01930958777666092\n",
      "45 0.018649857491254807\n",
      "46 0.018035925924777985\n",
      "47 0.01746349409222603\n",
      "48 0.016928713768720627\n",
      "49 0.016428153961896896\n",
      "50 0.015958769246935844\n",
      "51 0.01551781501621008\n",
      "52 0.015102830715477467\n",
      "53 0.014711611904203892\n",
      "54 0.014342179521918297\n",
      "55 0.013992737047374249\n",
      "56 0.013661694712936878\n",
      "57 0.013347573578357697\n",
      "58 0.013049071654677391\n",
      "59 0.012764996849000454\n",
      "60 0.012494267895817757\n",
      "61 0.012235898524522781\n",
      "62 0.011989006772637367\n",
      "63 0.011752770282328129\n",
      "64 0.011526454240083694\n",
      "65 0.011309382505714893\n",
      "66 0.011100935749709606\n",
      "67 0.010900554247200489\n",
      "68 0.010707722045481205\n",
      "69 0.010521955788135529\n",
      "70 0.01034283172339201\n",
      "71 0.010169942863285542\n",
      "72 0.0100029231980443\n",
      "73 0.0098414346575737\n",
      "74 0.009685170836746693\n",
      "75 0.009533831849694252\n",
      "76 0.009387160651385784\n",
      "77 0.009244902059435844\n",
      "78 0.009106838144361973\n",
      "79 0.008972748182713985\n",
      "80 0.00884244218468666\n",
      "81 0.008715731091797352\n",
      "82 0.008592449128627777\n",
      "83 0.008472437970340252\n",
      "84 0.008355546742677689\n",
      "85 0.008241642266511917\n",
      "86 0.008130592294037342\n",
      "87 0.008022277615964413\n",
      "88 0.0079165855422616\n",
      "89 0.007813405245542526\n",
      "90 0.007712640333920717\n",
      "91 0.007614197209477425\n",
      "92 0.0075179883278906345\n",
      "93 0.00742392847314477\n",
      "94 0.0073319412767887115\n",
      "95 0.007241953630000353\n",
      "96 0.007153891958296299\n",
      "97 0.007067689672112465\n",
      "98 0.006983286701142788\n",
      "99 0.006900624372065067\n",
      "Final Loss: 0.006900624372065067\n"
     ]
    },
    {
     "data": {
      "text/html": [
       "<style>\n",
       "    table.wandb td:nth-child(1) { padding: 0 10px; text-align: left ; width: auto;} td:nth-child(2) {text-align: left ; width: 100%}\n",
       "    .wandb-row { display: flex; flex-direction: row; flex-wrap: wrap; justify-content: flex-start; width: 100% }\n",
       "    .wandb-col { display: flex; flex-direction: column; flex-basis: 100%; flex: 1; padding: 10px; }\n",
       "    </style>\n",
       "<div class=\"wandb-row\"><div class=\"wandb-col\"><h3>Run history:</h3><br/><table class=\"wandb\"><tr><td>epoch</td><td>▁▁▁▁▂▂▂▂▂▃▃▃▃▃▃▄▄▄▄▄▅▅▅▅▅▅▆▆▆▆▆▇▇▇▇▇▇███</td></tr><tr><td>loss</td><td>█▇▆▅▃▃▂▂▂▂▁▁▁▁▁▁▁▁▁▁▁▁▁▁▁▁▁▁▁▁▁▁▁▁▁▁▁▁▁▁</td></tr></table><br/></div><div class=\"wandb-col\"><h3>Run summary:</h3><br/><table class=\"wandb\"><tr><td>epoch</td><td>99</td></tr><tr><td>loss</td><td>0.0069</td></tr></table><br/></div></div>"
      ],
      "text/plain": [
       "<IPython.core.display.HTML object>"
      ]
     },
     "metadata": {},
     "output_type": "display_data"
    },
    {
     "data": {
      "text/html": [
       " View run <strong style=\"color:#cdcd00\">run_gru_adam</strong> at: <a href='https://wandb.ai/factiverse-ai/dat550_rnn/runs/8em3ty0x' target=\"_blank\">https://wandb.ai/factiverse-ai/dat550_rnn/runs/8em3ty0x</a><br/>Synced 5 W&B file(s), 0 media file(s), 0 artifact file(s) and 0 other file(s)"
      ],
      "text/plain": [
       "<IPython.core.display.HTML object>"
      ]
     },
     "metadata": {},
     "output_type": "display_data"
    },
    {
     "data": {
      "text/html": [
       "Find logs at: <code>./wandb/run-20240314_155754-8em3ty0x/logs</code>"
      ],
      "text/plain": [
       "<IPython.core.display.HTML object>"
      ]
     },
     "metadata": {},
     "output_type": "display_data"
    },
    {
     "data": {
      "text/html": [
       "Tracking run with wandb version 0.16.4"
      ],
      "text/plain": [
       "<IPython.core.display.HTML object>"
      ]
     },
     "metadata": {},
     "output_type": "display_data"
    },
    {
     "data": {
      "text/html": [
       "Run data is saved locally in <code>/Users/vsetty/repos/dat550/2024/handson_rnns/wandb/run-20240314_155807-p9k7nov9</code>"
      ],
      "text/plain": [
       "<IPython.core.display.HTML object>"
      ]
     },
     "metadata": {},
     "output_type": "display_data"
    },
    {
     "data": {
      "text/html": [
       "Syncing run <strong><a href='https://wandb.ai/factiverse-ai/dat550_rnn/runs/p9k7nov9' target=\"_blank\">run_lstm_adam</a></strong> to <a href='https://wandb.ai/factiverse-ai/dat550_rnn' target=\"_blank\">Weights & Biases</a> (<a href='https://wandb.me/run' target=\"_blank\">docs</a>)<br/>"
      ],
      "text/plain": [
       "<IPython.core.display.HTML object>"
      ]
     },
     "metadata": {},
     "output_type": "display_data"
    },
    {
     "data": {
      "text/html": [
       " View project at <a href='https://wandb.ai/factiverse-ai/dat550_rnn' target=\"_blank\">https://wandb.ai/factiverse-ai/dat550_rnn</a>"
      ],
      "text/plain": [
       "<IPython.core.display.HTML object>"
      ]
     },
     "metadata": {},
     "output_type": "display_data"
    },
    {
     "data": {
      "text/html": [
       " View run at <a href='https://wandb.ai/factiverse-ai/dat550_rnn/runs/p9k7nov9' target=\"_blank\">https://wandb.ai/factiverse-ai/dat550_rnn/runs/p9k7nov9</a>"
      ],
      "text/plain": [
       "<IPython.core.display.HTML object>"
      ]
     },
     "metadata": {},
     "output_type": "display_data"
    },
    {
     "name": "stdout",
     "output_type": "stream",
     "text": [
      "0 0.8326718807220459\n",
      "1 0.7734530568122864\n",
      "2 0.7237474918365479\n",
      "3 0.6793004870414734\n",
      "4 0.6376040577888489\n",
      "5 0.5973783135414124\n",
      "6 0.5580827593803406\n",
      "7 0.5194371938705444\n",
      "8 0.4813520014286041\n",
      "9 0.443863183259964\n",
      "10 0.4070146381855011\n",
      "11 0.37075528502464294\n",
      "12 0.3349562883377075\n",
      "13 0.299589604139328\n",
      "14 0.2649940252304077\n",
      "15 0.2320137470960617\n",
      "16 0.2017279416322708\n",
      "17 0.17487186193466187\n",
      "18 0.15157173573970795\n",
      "19 0.13158152997493744\n",
      "20 0.11455937474966049\n",
      "21 0.10014895349740982\n",
      "22 0.08797892183065414\n",
      "23 0.07768184691667557\n",
      "24 0.06893030554056168\n",
      "25 0.061456192284822464\n",
      "26 0.055047355592250824\n",
      "27 0.0495343841612339\n",
      "28 0.04477847367525101\n",
      "29 0.040663547813892365\n",
      "30 0.037091612815856934\n",
      "31 0.0339798778295517\n",
      "32 0.03125860169529915\n",
      "33 0.028869198635220528\n",
      "34 0.026762597262859344\n",
      "35 0.024897728115320206\n",
      "36 0.023240182548761368\n",
      "37 0.021761108189821243\n",
      "38 0.02043626457452774\n",
      "39 0.019245220348238945\n",
      "40 0.018170710653066635\n",
      "41 0.017198098823428154\n",
      "42 0.016314946115016937\n",
      "43 0.015510626137256622\n",
      "44 0.014776058495044708\n",
      "45 0.014103447087109089\n",
      "46 0.013486062176525593\n",
      "47 0.012918110005557537\n",
      "48 0.012394528836011887\n",
      "49 0.011910928413271904\n",
      "50 0.011463451199233532\n",
      "51 0.01104870717972517\n",
      "52 0.010663678869605064\n",
      "53 0.010305684059858322\n",
      "54 0.009972328320145607\n",
      "55 0.009661438874900341\n",
      "56 0.009371059015393257\n",
      "57 0.009099414572119713\n",
      "58 0.008844890631735325\n",
      "59 0.008606012910604477\n",
      "60 0.008381444960832596\n",
      "61 0.00816996581852436\n",
      "62 0.007970470935106277\n",
      "63 0.007781956344842911\n",
      "64 0.007603514939546585\n",
      "65 0.007434318773448467\n",
      "66 0.007273627445101738\n",
      "67 0.007120770402252674\n",
      "68 0.006975136231631041\n",
      "69 0.006836173590272665\n",
      "70 0.00670338561758399\n",
      "71 0.006576322950422764\n",
      "72 0.006454576272517443\n",
      "73 0.006337772589176893\n",
      "74 0.006225569639354944\n",
      "75 0.006117664743214846\n",
      "76 0.006013774778693914\n",
      "77 0.0059136440977454185\n",
      "78 0.005817039404064417\n",
      "79 0.005723741836845875\n",
      "80 0.005633555818349123\n",
      "81 0.00554629834368825\n",
      "82 0.005461808294057846\n",
      "83 0.005379926413297653\n",
      "84 0.005300513003021479\n",
      "85 0.005223437212407589\n",
      "86 0.005148577503859997\n",
      "87 0.005075825843960047\n",
      "88 0.0050050741992890835\n",
      "89 0.004936225712299347\n",
      "90 0.004869192373007536\n",
      "91 0.004803893156349659\n",
      "92 0.004740245174616575\n",
      "93 0.004678180906921625\n",
      "94 0.004617629572749138\n",
      "95 0.004558528307825327\n",
      "96 0.0045008170418441296\n",
      "97 0.00444444315508008\n",
      "98 0.004389351699501276\n",
      "99 0.00433549378067255\n",
      "Final Loss: 0.00433549378067255\n"
     ]
    },
    {
     "data": {
      "text/html": [
       "<style>\n",
       "    table.wandb td:nth-child(1) { padding: 0 10px; text-align: left ; width: auto;} td:nth-child(2) {text-align: left ; width: 100%}\n",
       "    .wandb-row { display: flex; flex-direction: row; flex-wrap: wrap; justify-content: flex-start; width: 100% }\n",
       "    .wandb-col { display: flex; flex-direction: column; flex-basis: 100%; flex: 1; padding: 10px; }\n",
       "    </style>\n",
       "<div class=\"wandb-row\"><div class=\"wandb-col\"><h3>Run history:</h3><br/><table class=\"wandb\"><tr><td>epoch</td><td>▁▁▁▁▂▂▂▂▂▃▃▃▃▃▃▄▄▄▄▄▅▅▅▅▅▅▆▆▆▆▆▇▇▇▇▇▇███</td></tr><tr><td>loss</td><td>█▇▆▅▄▄▃▂▂▂▁▁▁▁▁▁▁▁▁▁▁▁▁▁▁▁▁▁▁▁▁▁▁▁▁▁▁▁▁▁</td></tr></table><br/></div><div class=\"wandb-col\"><h3>Run summary:</h3><br/><table class=\"wandb\"><tr><td>epoch</td><td>99</td></tr><tr><td>loss</td><td>0.00434</td></tr></table><br/></div></div>"
      ],
      "text/plain": [
       "<IPython.core.display.HTML object>"
      ]
     },
     "metadata": {},
     "output_type": "display_data"
    },
    {
     "data": {
      "text/html": [
       " View run <strong style=\"color:#cdcd00\">run_lstm_adam</strong> at: <a href='https://wandb.ai/factiverse-ai/dat550_rnn/runs/p9k7nov9' target=\"_blank\">https://wandb.ai/factiverse-ai/dat550_rnn/runs/p9k7nov9</a><br/>Synced 5 W&B file(s), 0 media file(s), 0 artifact file(s) and 0 other file(s)"
      ],
      "text/plain": [
       "<IPython.core.display.HTML object>"
      ]
     },
     "metadata": {},
     "output_type": "display_data"
    },
    {
     "data": {
      "text/html": [
       "Find logs at: <code>./wandb/run-20240314_155807-p9k7nov9/logs</code>"
      ],
      "text/plain": [
       "<IPython.core.display.HTML object>"
      ]
     },
     "metadata": {},
     "output_type": "display_data"
    },
    {
     "data": {
      "text/plain": [
       "SimpleRNN(\n",
       "  (rnn): RNN(10, 10, batch_first=True)\n",
       "  (fc): Linear(in_features=10, out_features=1, bias=True)\n",
       ")"
      ]
     },
     "execution_count": 59,
     "metadata": {},
     "output_type": "execute_result"
    }
   ],
   "source": [
    "input_size = 10   # Number of input features\n",
    "hidden_size = 10  # Number of features in the hidden state\n",
    "num_layers = 1    # Number of stacked RNN layers\n",
    "\n",
    "simple_rnn = SimpleRNN(input_size=input_size, hidden_size=hidden_size, num_layers=num_layers, rnn_type=\"rnn\")\n",
    "train(simple_rnn, model_type=\"rnn\")\n",
    "simple_gru = SimpleRNN(input_size=input_size, hidden_size=hidden_size, num_layers=num_layers, rnn_type=\"gru\")\n",
    "train(simple_gru, model_type=\"gru\")\n",
    "simple_lstm = SimpleRNN(input_size=input_size, hidden_size=hidden_size, num_layers=num_layers, rnn_type=\"lstm\")\n",
    "train(simple_lstm, model_type=\"lstm\")\n"
   ]
  },
  {
   "cell_type": "code",
   "execution_count": 60,
   "metadata": {},
   "outputs": [
    {
     "data": {
      "text/html": [
       "Tracking run with wandb version 0.16.4"
      ],
      "text/plain": [
       "<IPython.core.display.HTML object>"
      ]
     },
     "metadata": {},
     "output_type": "display_data"
    },
    {
     "data": {
      "text/html": [
       "Run data is saved locally in <code>/Users/vsetty/repos/dat550/2024/handson_rnns/wandb/run-20240314_155826-6hn9xdxs</code>"
      ],
      "text/plain": [
       "<IPython.core.display.HTML object>"
      ]
     },
     "metadata": {},
     "output_type": "display_data"
    },
    {
     "data": {
      "text/html": [
       "Syncing run <strong><a href='https://wandb.ai/factiverse-ai/dat550_rnn/runs/6hn9xdxs' target=\"_blank\">run_lstm_sgd</a></strong> to <a href='https://wandb.ai/factiverse-ai/dat550_rnn' target=\"_blank\">Weights & Biases</a> (<a href='https://wandb.me/run' target=\"_blank\">docs</a>)<br/>"
      ],
      "text/plain": [
       "<IPython.core.display.HTML object>"
      ]
     },
     "metadata": {},
     "output_type": "display_data"
    },
    {
     "data": {
      "text/html": [
       " View project at <a href='https://wandb.ai/factiverse-ai/dat550_rnn' target=\"_blank\">https://wandb.ai/factiverse-ai/dat550_rnn</a>"
      ],
      "text/plain": [
       "<IPython.core.display.HTML object>"
      ]
     },
     "metadata": {},
     "output_type": "display_data"
    },
    {
     "data": {
      "text/html": [
       " View run at <a href='https://wandb.ai/factiverse-ai/dat550_rnn/runs/6hn9xdxs' target=\"_blank\">https://wandb.ai/factiverse-ai/dat550_rnn/runs/6hn9xdxs</a>"
      ],
      "text/plain": [
       "<IPython.core.display.HTML object>"
      ]
     },
     "metadata": {},
     "output_type": "display_data"
    },
    {
     "name": "stdout",
     "output_type": "stream",
     "text": [
      "0 0.5151149034500122\n",
      "1 0.512709379196167\n",
      "2 0.5103204846382141\n",
      "3 0.5079483985900879\n",
      "4 0.5055927634239197\n",
      "5 0.5032533407211304\n",
      "6 0.50093013048172\n",
      "7 0.4986228346824646\n",
      "8 0.4963313043117523\n",
      "9 0.4940554201602936\n",
      "10 0.49179500341415405\n",
      "11 0.4895499646663666\n",
      "12 0.4873200058937073\n",
      "13 0.48510509729385376\n",
      "14 0.4829050600528717\n",
      "15 0.4807196855545044\n",
      "16 0.47854891419410706\n",
      "17 0.47639256715774536\n",
      "18 0.4742504954338074\n",
      "19 0.47212257981300354\n",
      "20 0.4700086712837219\n",
      "21 0.4679085910320282\n",
      "22 0.4658223092556\n",
      "23 0.46374958753585815\n",
      "24 0.46169033646583557\n",
      "25 0.4596444368362427\n",
      "26 0.4576117992401123\n",
      "27 0.45559218525886536\n",
      "28 0.4535856246948242\n",
      "29 0.4515919089317322\n",
      "30 0.4496108889579773\n",
      "31 0.4476425051689148\n",
      "32 0.4456866979598999\n",
      "33 0.4437432289123535\n",
      "34 0.44181200861930847\n",
      "35 0.4398930072784424\n",
      "36 0.4379860460758209\n",
      "37 0.43609100580215454\n",
      "38 0.43420788645744324\n",
      "39 0.4323364496231079\n",
      "40 0.43047669529914856\n",
      "41 0.42862841486930847\n",
      "42 0.42679160833358765\n",
      "43 0.42496612668037415\n",
      "44 0.4231518805027008\n",
      "45 0.4213487505912781\n",
      "46 0.41955673694610596\n",
      "47 0.41777557134628296\n",
      "48 0.41600531339645386\n",
      "49 0.4142457842826843\n",
      "50 0.4124969244003296\n",
      "51 0.4107586741447449\n",
      "52 0.4090309143066406\n",
      "53 0.4073135256767273\n",
      "54 0.40560653805732727\n",
      "55 0.4039096534252167\n",
      "56 0.40222302079200745\n",
      "57 0.4005463421344757\n",
      "58 0.3988797664642334\n",
      "59 0.39722302556037903\n",
      "60 0.3955761194229126\n",
      "61 0.39393892884254456\n",
      "62 0.3923114538192749\n",
      "63 0.3906935155391693\n",
      "64 0.3890850841999054\n",
      "65 0.3874860405921936\n",
      "66 0.3858964145183563\n",
      "67 0.38431602716445923\n",
      "68 0.3827448785305023\n",
      "69 0.38118278980255127\n",
      "70 0.37962982058525085\n",
      "71 0.3780858516693115\n",
      "72 0.3765507936477661\n",
      "73 0.3750245273113251\n",
      "74 0.3735070824623108\n",
      "75 0.3719983696937561\n",
      "76 0.37049829959869385\n",
      "77 0.36900678277015686\n",
      "78 0.36752378940582275\n",
      "79 0.36604928970336914\n",
      "80 0.3645830750465393\n",
      "81 0.3631252646446228\n",
      "82 0.3616756796836853\n",
      "83 0.3602343201637268\n",
      "84 0.3588010370731354\n",
      "85 0.3573758602142334\n",
      "86 0.3559587001800537\n",
      "87 0.35454943776130676\n",
      "88 0.35314810276031494\n",
      "89 0.35175463557243347\n",
      "90 0.3503689169883728\n",
      "91 0.34899091720581055\n",
      "92 0.34762057662010193\n",
      "93 0.3462578356266022\n",
      "94 0.3449026048183441\n",
      "95 0.34355494379997253\n",
      "96 0.3422147333621979\n",
      "97 0.3408818542957306\n",
      "98 0.33955633640289307\n",
      "99 0.33823806047439575\n",
      "Final Loss: 0.33823806047439575\n"
     ]
    },
    {
     "data": {
      "text/html": [
       "<style>\n",
       "    table.wandb td:nth-child(1) { padding: 0 10px; text-align: left ; width: auto;} td:nth-child(2) {text-align: left ; width: 100%}\n",
       "    .wandb-row { display: flex; flex-direction: row; flex-wrap: wrap; justify-content: flex-start; width: 100% }\n",
       "    .wandb-col { display: flex; flex-direction: column; flex-basis: 100%; flex: 1; padding: 10px; }\n",
       "    </style>\n",
       "<div class=\"wandb-row\"><div class=\"wandb-col\"><h3>Run history:</h3><br/><table class=\"wandb\"><tr><td>epoch</td><td>▁▁▁▁▂▂▂▂▂▃▃▃▃▃▃▄▄▄▄▄▅▅▅▅▅▅▆▆▆▆▆▇▇▇▇▇▇███</td></tr><tr><td>loss</td><td>███▇▇▇▇▆▆▆▆▆▅▅▅▅▅▄▄▄▄▄▄▃▃▃▃▃▃▂▂▂▂▂▂▂▁▁▁▁</td></tr></table><br/></div><div class=\"wandb-col\"><h3>Run summary:</h3><br/><table class=\"wandb\"><tr><td>epoch</td><td>99</td></tr><tr><td>loss</td><td>0.33824</td></tr></table><br/></div></div>"
      ],
      "text/plain": [
       "<IPython.core.display.HTML object>"
      ]
     },
     "metadata": {},
     "output_type": "display_data"
    },
    {
     "data": {
      "text/html": [
       " View run <strong style=\"color:#cdcd00\">run_lstm_sgd</strong> at: <a href='https://wandb.ai/factiverse-ai/dat550_rnn/runs/6hn9xdxs' target=\"_blank\">https://wandb.ai/factiverse-ai/dat550_rnn/runs/6hn9xdxs</a><br/>Synced 5 W&B file(s), 0 media file(s), 0 artifact file(s) and 0 other file(s)"
      ],
      "text/plain": [
       "<IPython.core.display.HTML object>"
      ]
     },
     "metadata": {},
     "output_type": "display_data"
    },
    {
     "data": {
      "text/html": [
       "Find logs at: <code>./wandb/run-20240314_155826-6hn9xdxs/logs</code>"
      ],
      "text/plain": [
       "<IPython.core.display.HTML object>"
      ]
     },
     "metadata": {},
     "output_type": "display_data"
    },
    {
     "data": {
      "text/html": [
       "Tracking run with wandb version 0.16.4"
      ],
      "text/plain": [
       "<IPython.core.display.HTML object>"
      ]
     },
     "metadata": {},
     "output_type": "display_data"
    },
    {
     "data": {
      "text/html": [
       "Run data is saved locally in <code>/Users/vsetty/repos/dat550/2024/handson_rnns/wandb/run-20240314_155842-ktg0q214</code>"
      ],
      "text/plain": [
       "<IPython.core.display.HTML object>"
      ]
     },
     "metadata": {},
     "output_type": "display_data"
    },
    {
     "data": {
      "text/html": [
       "Syncing run <strong><a href='https://wandb.ai/factiverse-ai/dat550_rnn/runs/ktg0q214' target=\"_blank\">run_lstm_adam</a></strong> to <a href='https://wandb.ai/factiverse-ai/dat550_rnn' target=\"_blank\">Weights & Biases</a> (<a href='https://wandb.me/run' target=\"_blank\">docs</a>)<br/>"
      ],
      "text/plain": [
       "<IPython.core.display.HTML object>"
      ]
     },
     "metadata": {},
     "output_type": "display_data"
    },
    {
     "data": {
      "text/html": [
       " View project at <a href='https://wandb.ai/factiverse-ai/dat550_rnn' target=\"_blank\">https://wandb.ai/factiverse-ai/dat550_rnn</a>"
      ],
      "text/plain": [
       "<IPython.core.display.HTML object>"
      ]
     },
     "metadata": {},
     "output_type": "display_data"
    },
    {
     "data": {
      "text/html": [
       " View run at <a href='https://wandb.ai/factiverse-ai/dat550_rnn/runs/ktg0q214' target=\"_blank\">https://wandb.ai/factiverse-ai/dat550_rnn/runs/ktg0q214</a>"
      ],
      "text/plain": [
       "<IPython.core.display.HTML object>"
      ]
     },
     "metadata": {},
     "output_type": "display_data"
    },
    {
     "name": "stdout",
     "output_type": "stream",
     "text": [
      "0 0.3369270861148834\n",
      "1 0.30315300822257996\n",
      "2 0.2687419354915619\n",
      "3 0.23379497230052948\n",
      "4 0.19974103569984436\n",
      "5 0.16836576163768768\n",
      "6 0.14096172153949738\n",
      "7 0.11787916719913483\n",
      "8 0.09882819652557373\n",
      "9 0.08329785615205765\n",
      "10 0.07070167362689972\n",
      "11 0.060474976897239685\n",
      "12 0.05214311182498932\n",
      "13 0.04532453417778015\n",
      "14 0.03971137851476669\n",
      "15 0.035056304186582565\n",
      "16 0.031164858490228653\n",
      "17 0.02788684144616127\n",
      "18 0.025106431916356087\n",
      "19 0.0227332916110754\n",
      "20 0.020695911720395088\n",
      "21 0.018937058746814728\n",
      "22 0.017410511150956154\n",
      "23 0.016078738495707512\n",
      "24 0.014911111444234848\n",
      "25 0.013882533647119999\n",
      "26 0.012972339987754822\n",
      "27 0.012163433246314526\n",
      "28 0.011441599577665329\n",
      "29 0.010794967412948608\n",
      "30 0.010213565081357956\n",
      "31 0.009688973426818848\n",
      "32 0.009214062243700027\n",
      "33 0.00878275278955698\n",
      "34 0.008389844559133053\n",
      "35 0.00803087092936039\n",
      "36 0.007701979484409094\n",
      "37 0.007399834226816893\n",
      "38 0.007121535018086433\n",
      "39 0.006864554714411497\n",
      "40 0.006626687478274107\n",
      "41 0.006405987776815891\n",
      "42 0.006200750824064016\n",
      "43 0.0060094743967056274\n",
      "44 0.0058308253064751625\n",
      "45 0.005663619842380285\n",
      "46 0.005506814923137426\n",
      "47 0.005359472241252661\n",
      "48 0.00522075779736042\n",
      "49 0.005089925602078438\n",
      "50 0.004966307897120714\n",
      "51 0.004849305376410484\n",
      "52 0.00473837461322546\n",
      "53 0.004633033182471991\n",
      "54 0.004532841499894857\n",
      "55 0.004437402356415987\n",
      "56 0.004346358124166727\n",
      "57 0.0042593819089233875\n",
      "58 0.004176178015768528\n",
      "59 0.00409648148342967\n",
      "60 0.004020043648779392\n",
      "61 0.003946646116673946\n",
      "62 0.003876082133501768\n",
      "63 0.0038081705570220947\n",
      "64 0.0037427369970828295\n",
      "65 0.00367962964810431\n",
      "66 0.00361870345659554\n",
      "67 0.0035598285030573606\n",
      "68 0.003502884414047003\n",
      "69 0.0034477615263313055\n",
      "70 0.00339435669593513\n",
      "71 0.003342574695125222\n",
      "72 0.003292329842224717\n",
      "73 0.0032435432076454163\n",
      "74 0.003196137957274914\n",
      "75 0.003150044707581401\n",
      "76 0.003105201292783022\n",
      "77 0.0030615476425737143\n",
      "78 0.003019028576090932\n",
      "79 0.0029775919392704964\n",
      "80 0.0029371888376772404\n",
      "81 0.0028977757319808006\n",
      "82 0.0028593107126653194\n",
      "83 0.0028217541985213757\n",
      "84 0.0027850682381540537\n",
      "85 0.0027492179069668055\n",
      "86 0.0027141724713146687\n",
      "87 0.0026799007318913937\n",
      "88 0.0026463738176971674\n",
      "89 0.0026135637890547514\n",
      "90 0.0025814452674239874\n",
      "91 0.0025499945040792227\n",
      "92 0.0025191879831254482\n",
      "93 0.0024890026543289423\n",
      "94 0.002459420822560787\n",
      "95 0.0024304206017404795\n",
      "96 0.002401983132585883\n",
      "97 0.0023740914184600115\n",
      "98 0.002346728928387165\n",
      "99 0.002319878665730357\n",
      "Final Loss: 0.002319878665730357\n"
     ]
    },
    {
     "data": {
      "text/html": [
       "<style>\n",
       "    table.wandb td:nth-child(1) { padding: 0 10px; text-align: left ; width: auto;} td:nth-child(2) {text-align: left ; width: 100%}\n",
       "    .wandb-row { display: flex; flex-direction: row; flex-wrap: wrap; justify-content: flex-start; width: 100% }\n",
       "    .wandb-col { display: flex; flex-direction: column; flex-basis: 100%; flex: 1; padding: 10px; }\n",
       "    </style>\n",
       "<div class=\"wandb-row\"><div class=\"wandb-col\"><h3>Run history:</h3><br/><table class=\"wandb\"><tr><td>epoch</td><td>▁▁▁▁▂▂▂▂▂▃▃▃▃▃▃▄▄▄▄▄▅▅▅▅▅▅▆▆▆▆▆▇▇▇▇▇▇███</td></tr><tr><td>loss</td><td>█▇▄▃▂▂▂▂▁▁▁▁▁▁▁▁▁▁▁▁▁▁▁▁▁▁▁▁▁▁▁▁▁▁▁▁▁▁▁▁</td></tr></table><br/></div><div class=\"wandb-col\"><h3>Run summary:</h3><br/><table class=\"wandb\"><tr><td>epoch</td><td>99</td></tr><tr><td>loss</td><td>0.00232</td></tr></table><br/></div></div>"
      ],
      "text/plain": [
       "<IPython.core.display.HTML object>"
      ]
     },
     "metadata": {},
     "output_type": "display_data"
    },
    {
     "data": {
      "text/html": [
       " View run <strong style=\"color:#cdcd00\">run_lstm_adam</strong> at: <a href='https://wandb.ai/factiverse-ai/dat550_rnn/runs/ktg0q214' target=\"_blank\">https://wandb.ai/factiverse-ai/dat550_rnn/runs/ktg0q214</a><br/>Synced 5 W&B file(s), 0 media file(s), 0 artifact file(s) and 0 other file(s)"
      ],
      "text/plain": [
       "<IPython.core.display.HTML object>"
      ]
     },
     "metadata": {},
     "output_type": "display_data"
    },
    {
     "data": {
      "text/html": [
       "Find logs at: <code>./wandb/run-20240314_155842-ktg0q214/logs</code>"
      ],
      "text/plain": [
       "<IPython.core.display.HTML object>"
      ]
     },
     "metadata": {},
     "output_type": "display_data"
    },
    {
     "data": {
      "text/html": [
       "Tracking run with wandb version 0.16.4"
      ],
      "text/plain": [
       "<IPython.core.display.HTML object>"
      ]
     },
     "metadata": {},
     "output_type": "display_data"
    },
    {
     "data": {
      "text/html": [
       "Run data is saved locally in <code>/Users/vsetty/repos/dat550/2024/handson_rnns/wandb/run-20240314_155853-g17iffoq</code>"
      ],
      "text/plain": [
       "<IPython.core.display.HTML object>"
      ]
     },
     "metadata": {},
     "output_type": "display_data"
    },
    {
     "data": {
      "text/html": [
       "Syncing run <strong><a href='https://wandb.ai/factiverse-ai/dat550_rnn/runs/g17iffoq' target=\"_blank\">run_lstm_rmsprop</a></strong> to <a href='https://wandb.ai/factiverse-ai/dat550_rnn' target=\"_blank\">Weights & Biases</a> (<a href='https://wandb.me/run' target=\"_blank\">docs</a>)<br/>"
      ],
      "text/plain": [
       "<IPython.core.display.HTML object>"
      ]
     },
     "metadata": {},
     "output_type": "display_data"
    },
    {
     "data": {
      "text/html": [
       " View project at <a href='https://wandb.ai/factiverse-ai/dat550_rnn' target=\"_blank\">https://wandb.ai/factiverse-ai/dat550_rnn</a>"
      ],
      "text/plain": [
       "<IPython.core.display.HTML object>"
      ]
     },
     "metadata": {},
     "output_type": "display_data"
    },
    {
     "data": {
      "text/html": [
       " View run at <a href='https://wandb.ai/factiverse-ai/dat550_rnn/runs/g17iffoq' target=\"_blank\">https://wandb.ai/factiverse-ai/dat550_rnn/runs/g17iffoq</a>"
      ],
      "text/plain": [
       "<IPython.core.display.HTML object>"
      ]
     },
     "metadata": {},
     "output_type": "display_data"
    },
    {
     "name": "stdout",
     "output_type": "stream",
     "text": [
      "0 0.0022935240995138884\n",
      "1 0.000688446220010519\n",
      "2 0.00045197681174613535\n",
      "3 0.0003501910832710564\n",
      "4 0.000288977287709713\n",
      "5 0.00024720310466364026\n",
      "6 0.00021654876763932407\n",
      "7 0.0001929496502270922\n",
      "8 0.00017414698959328234\n",
      "9 0.00015877214900683612\n",
      "10 0.0001459411869291216\n",
      "11 0.0001350554812233895\n",
      "12 0.0001256935647688806\n",
      "13 0.00011754941078834236\n",
      "14 0.00011039504897780716\n",
      "15 0.00010405679495306686\n",
      "16 9.840004349825904e-05\n",
      "17 9.331846376881003e-05\n",
      "18 8.872717444319278e-05\n",
      "19 8.455726492684335e-05\n",
      "20 8.075240475591272e-05\n",
      "21 7.72659623180516e-05\n",
      "22 7.405901124002412e-05\n",
      "23 7.109880243660882e-05\n",
      "24 6.835759268142283e-05\n",
      "25 6.581153866136447e-05\n",
      "26 6.344034045469016e-05\n",
      "27 6.122639024397358e-05\n",
      "28 5.915436486247927e-05\n",
      "29 5.721085472032428e-05\n",
      "30 5.5384167353622615e-05\n",
      "31 5.3664003644371405e-05\n",
      "32 5.2041221351828426e-05\n",
      "33 5.0507656851550564e-05\n",
      "34 4.905612877337262e-05\n",
      "35 4.768016151501797e-05\n",
      "36 4.637398888007738e-05\n",
      "37 4.513233943725936e-05\n",
      "38 4.395056748762727e-05\n",
      "39 4.282437657820992e-05\n",
      "40 4.174993955530226e-05\n",
      "41 4.072372757946141e-05\n",
      "42 3.974254286731593e-05\n",
      "43 3.8803496863693e-05\n",
      "44 3.790391201619059e-05\n",
      "45 3.704132905113511e-05\n",
      "46 3.621349242166616e-05\n",
      "47 3.5418364859651774e-05\n",
      "48 3.465403278823942e-05\n",
      "49 3.391873178770766e-05\n",
      "50 3.321081385365687e-05\n",
      "51 3.252877286286093e-05\n",
      "52 3.187125184922479e-05\n",
      "53 3.123691203654744e-05\n",
      "54 3.062458199565299e-05\n",
      "55 3.0033101211301982e-05\n",
      "56 2.9461441954481415e-05\n",
      "57 2.8908616513945162e-05\n",
      "58 2.837370448105503e-05\n",
      "59 2.7855845473823138e-05\n",
      "60 2.735424459388014e-05\n",
      "61 2.686815605557058e-05\n",
      "62 2.639687772898469e-05\n",
      "63 2.5939709303202108e-05\n",
      "64 2.5496068701613694e-05\n",
      "65 2.5065357476705685e-05\n",
      "66 2.4646982637932524e-05\n",
      "67 2.4240478524006903e-05\n",
      "68 2.3845292162150145e-05\n",
      "69 2.346101427974645e-05\n",
      "70 2.308714101673104e-05\n",
      "71 2.2723321308149025e-05\n",
      "72 2.236911495856475e-05\n",
      "73 2.2024152713129297e-05\n",
      "74 2.1688096239813603e-05\n",
      "75 2.1360603568609804e-05\n",
      "76 2.104132727254182e-05\n",
      "77 2.0730012693093158e-05\n",
      "78 2.042630876530893e-05\n",
      "79 2.0129988115513697e-05\n",
      "80 1.9840768800349906e-05\n",
      "81 1.9558392523322254e-05\n",
      "82 1.928264282469172e-05\n",
      "83 1.901326686493121e-05\n",
      "84 1.8750068193185143e-05\n",
      "85 1.8492830349714495e-05\n",
      "86 1.8241353245684877e-05\n",
      "87 1.799545862013474e-05\n",
      "88 1.7754951841197908e-05\n",
      "89 1.7519663742859848e-05\n",
      "90 1.728943425405305e-05\n",
      "91 1.7064085113815963e-05\n",
      "92 1.6843494449858554e-05\n",
      "93 1.662748763919808e-05\n",
      "94 1.64159409905551e-05\n",
      "95 1.620870898477733e-05\n",
      "96 1.600567702553235e-05\n",
      "97 1.5806701412657276e-05\n",
      "98 1.5611689377692528e-05\n",
      "99 1.5420495401485823e-05\n",
      "Final Loss: 1.5420495401485823e-05\n"
     ]
    },
    {
     "data": {
      "text/html": [
       "<style>\n",
       "    table.wandb td:nth-child(1) { padding: 0 10px; text-align: left ; width: auto;} td:nth-child(2) {text-align: left ; width: 100%}\n",
       "    .wandb-row { display: flex; flex-direction: row; flex-wrap: wrap; justify-content: flex-start; width: 100% }\n",
       "    .wandb-col { display: flex; flex-direction: column; flex-basis: 100%; flex: 1; padding: 10px; }\n",
       "    </style>\n",
       "<div class=\"wandb-row\"><div class=\"wandb-col\"><h3>Run history:</h3><br/><table class=\"wandb\"><tr><td>epoch</td><td>▁▁▁▁▂▂▂▂▂▃▃▃▃▃▃▄▄▄▄▄▅▅▅▅▅▅▆▆▆▆▆▇▇▇▇▇▇███</td></tr><tr><td>loss</td><td>█▂▂▂▁▁▁▁▁▁▁▁▁▁▁▁▁▁▁▁▁▁▁▁▁▁▁▁▁▁▁▁▁▁▁▁▁▁▁▁</td></tr></table><br/></div><div class=\"wandb-col\"><h3>Run summary:</h3><br/><table class=\"wandb\"><tr><td>epoch</td><td>99</td></tr><tr><td>loss</td><td>2e-05</td></tr></table><br/></div></div>"
      ],
      "text/plain": [
       "<IPython.core.display.HTML object>"
      ]
     },
     "metadata": {},
     "output_type": "display_data"
    },
    {
     "data": {
      "text/html": [
       " View run <strong style=\"color:#cdcd00\">run_lstm_rmsprop</strong> at: <a href='https://wandb.ai/factiverse-ai/dat550_rnn/runs/g17iffoq' target=\"_blank\">https://wandb.ai/factiverse-ai/dat550_rnn/runs/g17iffoq</a><br/>Synced 5 W&B file(s), 0 media file(s), 0 artifact file(s) and 0 other file(s)"
      ],
      "text/plain": [
       "<IPython.core.display.HTML object>"
      ]
     },
     "metadata": {},
     "output_type": "display_data"
    },
    {
     "data": {
      "text/html": [
       "Find logs at: <code>./wandb/run-20240314_155853-g17iffoq/logs</code>"
      ],
      "text/plain": [
       "<IPython.core.display.HTML object>"
      ]
     },
     "metadata": {},
     "output_type": "display_data"
    },
    {
     "data": {
      "text/plain": [
       "SimpleRNN(\n",
       "  (rnn): RNN(10, 10, batch_first=True)\n",
       "  (fc): Linear(in_features=10, out_features=1, bias=True)\n",
       ")"
      ]
     },
     "execution_count": 60,
     "metadata": {},
     "output_type": "execute_result"
    }
   ],
   "source": [
    "simple_lstm = SimpleRNN(input_size=input_size, hidden_size=hidden_size, num_layers=num_layers, rnn_type=\"lstm\")\n",
    "train(simple_lstm, model_type=\"lstm\", optimizer_name=\"sgd\")\n",
    "train(simple_lstm, model_type=\"lstm\", optimizer_name=\"adam\")\n",
    "train(simple_lstm, model_type=\"lstm\", optimizer_name=\"rmsprop\")"
   ]
  },
  {
   "cell_type": "markdown",
   "metadata": {},
   "source": [
    "# Task 4: Implement a SimpleLSTM using the LSTM unit. Note you also need to include the c0 in the forward pass."
   ]
  },
  {
   "cell_type": "markdown",
   "metadata": {},
   "source": []
  },
  {
   "cell_type": "code",
   "execution_count": 48,
   "metadata": {},
   "outputs": [
    {
     "name": "stdout",
     "output_type": "stream",
     "text": [
      "0 0.79059898853302\n",
      "1 0.7437970042228699\n",
      "2 0.6992879509925842\n",
      "3 0.6513519883155823\n",
      "4 0.5989393591880798\n",
      "5 0.5431981682777405\n",
      "6 0.48646876215934753\n",
      "7 0.4317106306552887\n",
      "8 0.38138681650161743\n",
      "9 0.3363927900791168\n",
      "10 0.2963874340057373\n",
      "11 0.26092633605003357\n",
      "12 0.22980144619941711\n",
      "13 0.20278501510620117\n",
      "14 0.17947590351104736\n",
      "15 0.15936899185180664\n",
      "16 0.14197690784931183\n",
      "17 0.12689155340194702\n",
      "18 0.11378461867570877\n",
      "19 0.1023854985833168\n",
      "20 0.09246223419904709\n",
      "21 0.08381124585866928\n",
      "22 0.07625295221805573\n",
      "23 0.06963000446557999\n",
      "24 0.06380578130483627\n",
      "25 0.05866270139813423\n",
      "26 0.054100245237350464\n",
      "27 0.05003276839852333\n",
      "28 0.04638771340250969\n",
      "29 0.04310378432273865\n",
      "30 0.04012973606586456\n",
      "31 0.037423331290483475\n",
      "32 0.03495060279965401\n",
      "33 0.032685115933418274\n",
      "34 0.030606793239712715\n",
      "35 0.028700310736894608\n",
      "36 0.026953045278787613\n",
      "37 0.02535315789282322\n",
      "38 0.023888586089015007\n",
      "39 0.022547060623764992\n",
      "40 0.021316934376955032\n",
      "41 0.02018791250884533\n",
      "42 0.019151214510202408\n",
      "43 0.01819920726120472\n",
      "44 0.01732484996318817\n",
      "45 0.016521282494068146\n",
      "46 0.01578179933130741\n",
      "47 0.015099972486495972\n",
      "48 0.014469859190285206\n",
      "49 0.013886160217225552\n",
      "50 0.013344223611056805\n",
      "51 0.012839988805353642\n",
      "52 0.012369927950203419\n",
      "53 0.011930951848626137\n",
      "54 0.011520319618284702\n",
      "55 0.011135611683130264\n",
      "56 0.010774636641144753\n",
      "57 0.010435455478727818\n",
      "58 0.01011630054563284\n",
      "59 0.0098155802115798\n",
      "60 0.009531854651868343\n",
      "61 0.009263806976377964\n",
      "62 0.009010250680148602\n",
      "63 0.008770106360316277\n",
      "64 0.008542383089661598\n",
      "65 0.008326178416609764\n",
      "66 0.008120670914649963\n",
      "67 0.007925109937787056\n",
      "68 0.0077388049103319645\n",
      "69 0.007561124861240387\n",
      "70 0.0073914919048547745\n",
      "71 0.00722937285900116\n",
      "72 0.007074275519698858\n",
      "73 0.006925756111741066\n",
      "74 0.006783395539969206\n",
      "75 0.006646814290434122\n",
      "76 0.00651565520092845\n",
      "77 0.006389600224792957\n",
      "78 0.006268342025578022\n",
      "79 0.006151602603495121\n",
      "80 0.006039122585207224\n",
      "81 0.005930664483457804\n",
      "82 0.005826008040457964\n",
      "83 0.005724939983338118\n",
      "84 0.005627274513244629\n",
      "85 0.005532833281904459\n",
      "86 0.005441443063318729\n",
      "87 0.0053529562428593636\n",
      "88 0.005267222411930561\n",
      "89 0.005184108857065439\n",
      "90 0.005103489849716425\n",
      "91 0.005025245249271393\n",
      "92 0.004949266090989113\n",
      "93 0.004875446204096079\n",
      "94 0.004803692456334829\n",
      "95 0.004733908921480179\n",
      "96 0.0046660141088068485\n",
      "97 0.004599923733621836\n",
      "98 0.004535561427474022\n",
      "99 0.0044728596694767475\n",
      "Final Loss: 0.0044728596694767475\n"
     ]
    },
    {
     "data": {
      "text/plain": [
       "SimpleRNN(\n",
       "  (rnn): RNN(10, 10, batch_first=True)\n",
       "  (fc): Linear(in_features=10, out_features=1, bias=True)\n",
       ")"
      ]
     },
     "execution_count": 48,
     "metadata": {},
     "output_type": "execute_result"
    }
   ],
   "source": [
    "simple_gru = SimpleRNN(input_size=input_size, hidden_size=hidden_size, num_layers=num_layers, rnn_type=\"lstm\")\n",
    "train(simple_gru)"
   ]
  },
  {
   "cell_type": "markdown",
   "metadata": {},
   "source": [
    "# Task 5: Log the learning curve to wandb and repeat all experiments"
   ]
  },
  {
   "cell_type": "code",
   "execution_count": 49,
   "metadata": {},
   "outputs": [
    {
     "name": "stdout",
     "output_type": "stream",
     "text": [
      "Defaulting to user installation because normal site-packages is not writeable\n",
      "Requirement already satisfied: wandb in /Users/vsetty/Library/Python/3.9/lib/python/site-packages (0.16.4)\n",
      "Requirement already satisfied: PyYAML in /Users/vsetty/Library/Python/3.9/lib/python/site-packages (from wandb) (6.0.1)\n",
      "Requirement already satisfied: docker-pycreds>=0.4.0 in /Users/vsetty/Library/Python/3.9/lib/python/site-packages (from wandb) (0.4.0)\n",
      "Requirement already satisfied: psutil>=5.0.0 in /Users/vsetty/Library/Python/3.9/lib/python/site-packages (from wandb) (5.9.8)\n",
      "Requirement already satisfied: Click!=8.0.0,>=7.1 in /Users/vsetty/Library/Python/3.9/lib/python/site-packages (from wandb) (8.1.7)\n",
      "Requirement already satisfied: setproctitle in /Users/vsetty/Library/Python/3.9/lib/python/site-packages (from wandb) (1.3.3)\n",
      "Requirement already satisfied: requests<3,>=2.0.0 in /Users/vsetty/Library/Python/3.9/lib/python/site-packages (from wandb) (2.31.0)\n",
      "Requirement already satisfied: GitPython!=3.1.29,>=1.0.0 in /Users/vsetty/Library/Python/3.9/lib/python/site-packages (from wandb) (3.1.42)\n",
      "Requirement already satisfied: setuptools in /Library/Developer/CommandLineTools/Library/Frameworks/Python3.framework/Versions/3.9/lib/python3.9/site-packages (from wandb) (58.0.4)\n",
      "Requirement already satisfied: appdirs>=1.4.3 in /Users/vsetty/Library/Python/3.9/lib/python/site-packages (from wandb) (1.4.4)\n",
      "Requirement already satisfied: sentry-sdk>=1.0.0 in /Users/vsetty/Library/Python/3.9/lib/python/site-packages (from wandb) (1.41.0)\n",
      "Requirement already satisfied: typing-extensions in /Users/vsetty/Library/Python/3.9/lib/python/site-packages (from wandb) (4.10.0)\n",
      "Requirement already satisfied: protobuf!=4.21.0,<5,>=3.19.0 in /Users/vsetty/Library/Python/3.9/lib/python/site-packages (from wandb) (4.25.3)\n",
      "Requirement already satisfied: six>=1.4.0 in /Library/Developer/CommandLineTools/Library/Frameworks/Python3.framework/Versions/3.9/lib/python3.9/site-packages (from docker-pycreds>=0.4.0->wandb) (1.15.0)\n",
      "Requirement already satisfied: gitdb<5,>=4.0.1 in /Users/vsetty/Library/Python/3.9/lib/python/site-packages (from GitPython!=3.1.29,>=1.0.0->wandb) (4.0.11)\n",
      "Requirement already satisfied: smmap<6,>=3.0.1 in /Users/vsetty/Library/Python/3.9/lib/python/site-packages (from gitdb<5,>=4.0.1->GitPython!=3.1.29,>=1.0.0->wandb) (5.0.1)\n",
      "Requirement already satisfied: urllib3<3,>=1.21.1 in /Users/vsetty/Library/Python/3.9/lib/python/site-packages (from requests<3,>=2.0.0->wandb) (2.2.1)\n",
      "Requirement already satisfied: idna<4,>=2.5 in /Users/vsetty/Library/Python/3.9/lib/python/site-packages (from requests<3,>=2.0.0->wandb) (3.6)\n",
      "Requirement already satisfied: certifi>=2017.4.17 in /Users/vsetty/Library/Python/3.9/lib/python/site-packages (from requests<3,>=2.0.0->wandb) (2024.2.2)\n",
      "Requirement already satisfied: charset-normalizer<4,>=2 in /Users/vsetty/Library/Python/3.9/lib/python/site-packages (from requests<3,>=2.0.0->wandb) (3.3.2)\n",
      "\u001b[33mWARNING: You are using pip version 21.2.4; however, version 24.0 is available.\n",
      "You should consider upgrading via the '/Library/Developer/CommandLineTools/usr/bin/python3 -m pip install --upgrade pip' command.\u001b[0m\n",
      "Note: you may need to restart the kernel to use updated packages.\n"
     ]
    }
   ],
   "source": [
    "pip install wandb"
   ]
  },
  {
   "cell_type": "code",
   "execution_count": 50,
   "metadata": {},
   "outputs": [
    {
     "name": "stderr",
     "output_type": "stream",
     "text": [
      "/Users/vsetty/Library/Python/3.9/lib/python/site-packages/urllib3/__init__.py:35: NotOpenSSLWarning: urllib3 v2 only supports OpenSSL 1.1.1+, currently the 'ssl' module is compiled with 'LibreSSL 2.8.3'. See: https://github.com/urllib3/urllib3/issues/3020\n",
      "  warnings.warn(\n",
      "Failed to detect the name of this notebook, you can set it manually with the WANDB_NOTEBOOK_NAME environment variable to enable code saving.\n",
      "/Users/vsetty/Library/Python/3.9/lib/python/site-packages/urllib3/__init__.py:35: NotOpenSSLWarning: urllib3 v2 only supports OpenSSL 1.1.1+, currently the 'ssl' module is compiled with 'LibreSSL 2.8.3'. See: https://github.com/urllib3/urllib3/issues/3020\n",
      "  warnings.warn(\n",
      "\u001b[34m\u001b[1mwandb\u001b[0m: Currently logged in as: \u001b[33mvinays\u001b[0m (\u001b[33mfactiverse-ai\u001b[0m). Use \u001b[1m`wandb login --relogin`\u001b[0m to force relogin\n",
      "\u001b[34m\u001b[1mwandb\u001b[0m: \u001b[33mWARNING\u001b[0m If you're specifying your api key in code, ensure this code is not shared publicly.\n",
      "\u001b[34m\u001b[1mwandb\u001b[0m: \u001b[33mWARNING\u001b[0m Consider setting the WANDB_API_KEY environment variable, or running `wandb login` from the command line.\n",
      "\u001b[34m\u001b[1mwandb\u001b[0m: Appending key for api.wandb.ai to your netrc file: /Users/vsetty/.netrc\n"
     ]
    },
    {
     "data": {
      "text/plain": [
       "True"
      ]
     },
     "execution_count": 50,
     "metadata": {},
     "output_type": "execute_result"
    }
   ],
   "source": [
    "import wandb\n",
    "# Register an account in https://wandb.ai/ and get your API key from https://wandb.ai/authorize\n",
    "# wandb.login(key=\"add your key here\")"
   ]
  },
  {
   "cell_type": "code",
   "execution_count": 56,
   "metadata": {},
   "outputs": [
    {
     "data": {
      "text/html": [
       "Tracking run with wandb version 0.16.4"
      ],
      "text/plain": [
       "<IPython.core.display.HTML object>"
      ]
     },
     "metadata": {},
     "output_type": "display_data"
    },
    {
     "data": {
      "text/html": [
       "Run data is saved locally in <code>/Users/vsetty/repos/dat550/2024/handson_rnns/wandb/run-20240314_155135-o9q93ukf</code>"
      ],
      "text/plain": [
       "<IPython.core.display.HTML object>"
      ]
     },
     "metadata": {},
     "output_type": "display_data"
    },
    {
     "data": {
      "text/html": [
       "Syncing run <strong><a href='https://wandb.ai/factiverse-ai/dat550_rnn/runs/o9q93ukf' target=\"_blank\">rhubarb-meringue-1</a></strong> to <a href='https://wandb.ai/factiverse-ai/dat550_rnn' target=\"_blank\">Weights & Biases</a> (<a href='https://wandb.me/run' target=\"_blank\">docs</a>)<br/>"
      ],
      "text/plain": [
       "<IPython.core.display.HTML object>"
      ]
     },
     "metadata": {},
     "output_type": "display_data"
    },
    {
     "data": {
      "text/html": [
       " View project at <a href='https://wandb.ai/factiverse-ai/dat550_rnn' target=\"_blank\">https://wandb.ai/factiverse-ai/dat550_rnn</a>"
      ],
      "text/plain": [
       "<IPython.core.display.HTML object>"
      ]
     },
     "metadata": {},
     "output_type": "display_data"
    },
    {
     "data": {
      "text/html": [
       " View run at <a href='https://wandb.ai/factiverse-ai/dat550_rnn/runs/o9q93ukf' target=\"_blank\">https://wandb.ai/factiverse-ai/dat550_rnn/runs/o9q93ukf</a>"
      ],
      "text/plain": [
       "<IPython.core.display.HTML object>"
      ]
     },
     "metadata": {},
     "output_type": "display_data"
    },
    {
     "data": {
      "text/html": [
       "<button onClick=\"this.nextSibling.style.display='block';this.style.display='none';\">Display W&B run</button><iframe src='https://wandb.ai/factiverse-ai/dat550_rnn/runs/o9q93ukf?jupyter=true' style='border:none;width:100%;height:420px;display:none;'></iframe>"
      ],
      "text/plain": [
       "<wandb.sdk.wandb_run.Run at 0x3389a2250>"
      ]
     },
     "execution_count": 56,
     "metadata": {},
     "output_type": "execute_result"
    }
   ],
   "source": [
    "wandb.init(project=\"dat550_rnn\")"
   ]
  },
  {
   "cell_type": "code",
   "execution_count": null,
   "metadata": {},
   "outputs": [],
   "source": []
  }
 ],
 "metadata": {
  "kernelspec": {
   "display_name": "Python 3",
   "language": "python",
   "name": "python3"
  },
  "language_info": {
   "codemirror_mode": {
    "name": "ipython",
    "version": 3
   },
   "file_extension": ".py",
   "mimetype": "text/x-python",
   "name": "python",
   "nbconvert_exporter": "python",
   "pygments_lexer": "ipython3",
   "version": "3.9.6"
  }
 },
 "nbformat": 4,
 "nbformat_minor": 2
}
