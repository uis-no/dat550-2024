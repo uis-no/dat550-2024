{
 "cells": [
  {
   "cell_type": "code",
   "execution_count": 1,
   "metadata": {},
   "outputs": [
    {
     "name": "stdout",
     "output_type": "stream",
     "text": [
      "tensor([[0.4183],\n",
      "        [0.4078],\n",
      "        [0.4335],\n",
      "        [0.4133],\n",
      "        [0.4174]], grad_fn=<SigmoidBackward0>)\n"
     ]
    }
   ],
   "source": [
    "import torch\n",
    "import torch.nn as nn\n",
    "import numpy as np\n",
    "import random\n",
    "seed = 42\n",
    "torch.manual_seed(seed)\n",
    "np.random.seed(seed)\n",
    "random.seed(seed)\n",
    "\n",
    "class SimpleRNN(nn.Module):\n",
    "    def __init__(self, input_size, hidden_size, num_layers):\n",
    "        super(SimpleRNN, self).__init__()\n",
    "        self.hidden_size = hidden_size\n",
    "        self.num_layers = num_layers\n",
    "        self.rnn = nn.RNN(input_size, hidden_size, num_layers, batch_first=True)\n",
    "        # Output layer for binary classification (1 node)\n",
    "        self.fc = nn.Linear(hidden_size, 1)\n",
    "\n",
    "    def forward(self, x):\n",
    "        # Initialize hidden state with zeros\n",
    "        h0 = torch.zeros(self.num_layers, x.size(0), self.hidden_size).to(x.device)\n",
    "\n",
    "        # Forward propagate RNN\n",
    "        out, _ = self.rnn(x, h0)\n",
    "\n",
    "        # Extract the last hidden state output\n",
    "        out = out[:, -1, :]\n",
    "\n",
    "        # Pass the last hidden state output to fully connected layer\n",
    "        out = self.fc(out)\n",
    "        # Apply sigmoid function to convert to a probability\n",
    "        out = torch.sigmoid(out)\n",
    "        return out\n",
    "\n",
    "# Example usage:\n",
    "input_size = 10   # Number of input features\n",
    "hidden_size = 20  # Number of features in the hidden state\n",
    "num_layers = 1    # Number of stacked RNN layers\n",
    "\n",
    "# Create the RNN model instance\n",
    "model = SimpleRNN(input_size, hidden_size, num_layers)\n",
    "\n",
    "# Example input (batch_size, sequence_length, input_size)\n",
    "x = torch.rand(5, 8, input_size)\n",
    "y = torch.randint(0, 2, (5, 1)).type(torch.FloatTensor)\n",
    "# Get the model output\n",
    "output = model(x)\n",
    "print(output)\n"
   ]
  },
  {
   "cell_type": "markdown",
   "metadata": {},
   "source": [
    "# Task 1: Train the SimpleRNN using the Adam optimizer"
   ]
  },
  {
   "cell_type": "code",
   "execution_count": 11,
   "metadata": {},
   "outputs": [
    {
     "name": "stdout",
     "output_type": "stream",
     "text": [
      "Epoch 0, Loss: 0.0007844916544854641\n",
      "Epoch 10, Loss: 9.726232383400202e-05\n",
      "Epoch 20, Loss: 3.1612697057425976e-05\n",
      "Epoch 30, Loss: 1.6729436538298614e-05\n",
      "Epoch 40, Loss: 1.1660570635285694e-05\n",
      "Epoch 50, Loss: 9.239933206117712e-06\n",
      "Epoch 60, Loss: 7.81655398895964e-06\n",
      "Epoch 70, Loss: 6.828654477430973e-06\n",
      "Epoch 80, Loss: 6.053265678929165e-06\n",
      "Epoch 90, Loss: 5.436839273897931e-06\n",
      "Final Loss: 4.958887984685134e-06\n"
     ]
    }
   ],
   "source": [
    "criterion = nn.BCELoss()\n",
    "optimizer = torch.optim.Adam(model.parameters(), lr=0.01)\n",
    "# wandb.init(project='dat550', reinit=True, name=f'run_adam')\n",
    "# Training loop (for demonstration, let's say 100 epochs)\n",
    "num_epochs = 100\n",
    "for epoch in range(num_epochs):\n",
    "    # Forward pass: Compute predicted y by passing x to the model\n",
    "    predicted_labels = model(x)\n",
    "\n",
    "    # Compute and print loss\n",
    "    loss = criterion(predicted_labels, y)\n",
    "    if epoch % 10 == 0:  # Print every 10 epochs\n",
    "        print(f'Epoch {epoch}, Loss: {loss.item()}')\n",
    "\n",
    "    # Zero gradients, perform a backward pass, and update the weights.\n",
    "    optimizer.zero_grad()\n",
    "    loss.backward()\n",
    "    optimizer.step()\n",
    "\n",
    "# Print final loss\n",
    "print(f'Final Loss: {loss.item()}')"
   ]
  },
  {
   "cell_type": "code",
   "execution_count": 3,
   "metadata": {},
   "outputs": [
    {
     "name": "stdout",
     "output_type": "stream",
     "text": [
      "Defaulting to user installation because normal site-packages is not writeable\n",
      "Requirement already satisfied: wandb in /Users/vsetty/Library/Python/3.9/lib/python/site-packages (0.16.4)\n",
      "Requirement already satisfied: GitPython!=3.1.29,>=1.0.0 in /Users/vsetty/Library/Python/3.9/lib/python/site-packages (from wandb) (3.1.42)\n",
      "Requirement already satisfied: requests<3,>=2.0.0 in /Users/vsetty/Library/Python/3.9/lib/python/site-packages (from wandb) (2.31.0)\n",
      "Requirement already satisfied: PyYAML in /Users/vsetty/Library/Python/3.9/lib/python/site-packages (from wandb) (6.0.1)\n",
      "Requirement already satisfied: typing-extensions in /Users/vsetty/Library/Python/3.9/lib/python/site-packages (from wandb) (4.10.0)\n",
      "Requirement already satisfied: appdirs>=1.4.3 in /Users/vsetty/Library/Python/3.9/lib/python/site-packages (from wandb) (1.4.4)\n",
      "Requirement already satisfied: docker-pycreds>=0.4.0 in /Users/vsetty/Library/Python/3.9/lib/python/site-packages (from wandb) (0.4.0)\n",
      "Requirement already satisfied: setproctitle in /Users/vsetty/Library/Python/3.9/lib/python/site-packages (from wandb) (1.3.3)\n",
      "Requirement already satisfied: setuptools in /Library/Developer/CommandLineTools/Library/Frameworks/Python3.framework/Versions/3.9/lib/python3.9/site-packages (from wandb) (58.0.4)\n",
      "Requirement already satisfied: psutil>=5.0.0 in /Users/vsetty/Library/Python/3.9/lib/python/site-packages (from wandb) (5.9.8)\n",
      "Requirement already satisfied: Click!=8.0.0,>=7.1 in /Users/vsetty/Library/Python/3.9/lib/python/site-packages (from wandb) (8.1.7)\n",
      "Requirement already satisfied: sentry-sdk>=1.0.0 in /Users/vsetty/Library/Python/3.9/lib/python/site-packages (from wandb) (1.41.0)\n",
      "Requirement already satisfied: protobuf!=4.21.0,<5,>=3.19.0 in /Users/vsetty/Library/Python/3.9/lib/python/site-packages (from wandb) (4.25.3)\n",
      "Requirement already satisfied: six>=1.4.0 in /Library/Developer/CommandLineTools/Library/Frameworks/Python3.framework/Versions/3.9/lib/python3.9/site-packages (from docker-pycreds>=0.4.0->wandb) (1.15.0)\n",
      "Requirement already satisfied: gitdb<5,>=4.0.1 in /Users/vsetty/Library/Python/3.9/lib/python/site-packages (from GitPython!=3.1.29,>=1.0.0->wandb) (4.0.11)\n",
      "Requirement already satisfied: smmap<6,>=3.0.1 in /Users/vsetty/Library/Python/3.9/lib/python/site-packages (from gitdb<5,>=4.0.1->GitPython!=3.1.29,>=1.0.0->wandb) (5.0.1)\n",
      "Requirement already satisfied: idna<4,>=2.5 in /Users/vsetty/Library/Python/3.9/lib/python/site-packages (from requests<3,>=2.0.0->wandb) (3.6)\n",
      "Requirement already satisfied: charset-normalizer<4,>=2 in /Users/vsetty/Library/Python/3.9/lib/python/site-packages (from requests<3,>=2.0.0->wandb) (3.3.2)\n",
      "Requirement already satisfied: certifi>=2017.4.17 in /Users/vsetty/Library/Python/3.9/lib/python/site-packages (from requests<3,>=2.0.0->wandb) (2024.2.2)\n",
      "Requirement already satisfied: urllib3<3,>=1.21.1 in /Users/vsetty/Library/Python/3.9/lib/python/site-packages (from requests<3,>=2.0.0->wandb) (2.2.1)\n",
      "\u001b[33mWARNING: You are using pip version 21.2.4; however, version 24.0 is available.\n",
      "You should consider upgrading via the '/Library/Developer/CommandLineTools/usr/bin/python3 -m pip install --upgrade pip' command.\u001b[0m\n",
      "Note: you may need to restart the kernel to use updated packages.\n"
     ]
    }
   ],
   "source": [
    "pip install wandb"
   ]
  },
  {
   "cell_type": "code",
   "execution_count": 5,
   "metadata": {},
   "outputs": [],
   "source": [
    "import wandb\n",
    "# wandb.login(key=\"your_api_key_here\")\n"
   ]
  },
  {
   "cell_type": "code",
   "execution_count": null,
   "metadata": {},
   "outputs": [],
   "source": []
  },
  {
   "cell_type": "code",
   "execution_count": null,
   "metadata": {},
   "outputs": [],
   "source": []
  }
 ],
 "metadata": {
  "kernelspec": {
   "display_name": "Python 3",
   "language": "python",
   "name": "python3"
  },
  "language_info": {
   "codemirror_mode": {
    "name": "ipython",
    "version": 3
   },
   "file_extension": ".py",
   "mimetype": "text/x-python",
   "name": "python",
   "nbconvert_exporter": "python",
   "pygments_lexer": "ipython3",
   "version": "3.9.6"
  }
 },
 "nbformat": 4,
 "nbformat_minor": 2
}
